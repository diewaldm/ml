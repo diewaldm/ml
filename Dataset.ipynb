{
 "cells": [
  {
   "cell_type": "markdown",
   "metadata": {},
   "source": [
    "https://ofai.github.io/million-post-corpus/ <br> **Posts** - Headline+Body, ID_User"
   ]
  },
  {
   "cell_type": "code",
   "execution_count": 1,
   "metadata": {},
   "outputs": [],
   "source": [
    "ARTICLES_MIN_LENGTH = 300\n",
    "ARTICLES_PER_AUTHOR = 250"
   ]
  },
  {
   "cell_type": "markdown",
   "metadata": {},
   "source": [
    "- Tabelle - Posts\n",
    "- Spalten: ID_User und Beitrag (Headline + Body)\n",
    "- Entferne newlines und Links\n",
    "- Wähle nur Posts mit einer Mindestlänge von 300\n",
    "- Duplikate ignorieren\n",
    "\n",
    "| columns | short posts |\n",
    "| :-- | :-- |\n",
    "| ![beitrag](img/headline_body.png)| ![too short post](img/short_body.png) |"
   ]
  },
  {
   "cell_type": "code",
   "execution_count": 2,
   "metadata": {},
   "outputs": [],
   "source": [
    "import pandas as pd\n",
    "import numpy as np\n",
    "import matplotlib.pyplot as plt\n",
    "import sqlite3\n",
    "import sqlalchemy as sqla\n",
    "\n",
    "con = sqlite3.connect(\"../../OneMillion/million_post_corpus/corpus.sqlite3\", isolation_level=None,\n",
    "                       detect_types=sqlite3.PARSE_COLNAMES)\n",
    "\n",
    "df = pd.read_sql_query(\"SELECT distinct ID_User, COALESCE(Headline, '') || COALESCE(Body, '') as Beitrag from Posts\", con)\n",
    "\n",
    "url = r\"https?:\\/\\/(www\\.)?[-a-zA-Z0-9@:%._\\+~#=]{1,256}\\.[a-zA-Z0-9()]{1,6}\\b([-a-zA-Z0-9()!@:%_\\+.~#?&\\/\\/=]*)\"\n",
    "\n",
    "df = df.replace(to_replace=[r\"\\\\t|\\\\n|\\\\r\", \"\\t|\\n|\\r\", url], value=[\" \",\" \", \"LINK\"], regex=True)\n",
    "\n",
    "df_minLength = df.loc[df['Beitrag'].apply(len) > ARTICLES_MIN_LENGTH]"
   ]
  },
  {
   "cell_type": "code",
   "execution_count": 3,
   "metadata": {},
   "outputs": [
    {
     "name": "stdout",
     "output_type": "stream",
     "text": [
      "ID_User    240863\n",
      "Beitrag    240863\n",
      "dtype: int64\n"
     ]
    }
   ],
   "source": [
    "## Anzahl Beiträge:\n",
    "print(df_minLength.count())"
   ]
  },
  {
   "cell_type": "code",
   "execution_count": 4,
   "metadata": {},
   "outputs": [
    {
     "name": "stdout",
     "output_type": "stream",
     "text": [
      "240863\n"
     ]
    }
   ],
   "source": [
    "## Anzahl der User\n",
    "print(sum(df_minLength['ID_User'].value_counts()))"
   ]
  },
  {
   "cell_type": "code",
   "execution_count": 5,
   "metadata": {},
   "outputs": [
    {
     "name": "stdout",
     "output_type": "stream",
     "text": [
      "6233\n"
     ]
    }
   ],
   "source": [
    "## User mit nur einem Beitrag\n",
    "print(sum(df_minLength['ID_User'].value_counts() == 1))"
   ]
  },
  {
   "cell_type": "code",
   "execution_count": 6,
   "metadata": {},
   "outputs": [
    {
     "name": "stdout",
     "output_type": "stream",
     "text": [
      "54\n"
     ]
    }
   ],
   "source": [
    "## User mit mehr als 250 Beiträgen\n",
    "print(sum(df_minLength['ID_User'].value_counts() > ARTICLES_PER_AUTHOR))"
   ]
  },
  {
   "cell_type": "code",
   "execution_count": 7,
   "metadata": {},
   "outputs": [],
   "source": [
    "## neuer Datensatz ohne User weniger als 251 Beiträge\n",
    "df_minArticles = df_minLength.groupby('ID_User').filter(lambda x : len(x) > ARTICLES_PER_AUTHOR)"
   ]
  },
  {
   "cell_type": "code",
   "execution_count": 8,
   "metadata": {},
   "outputs": [
    {
     "data": {
      "text/html": [
       "<div>\n",
       "<style scoped>\n",
       "    .dataframe tbody tr th:only-of-type {\n",
       "        vertical-align: middle;\n",
       "    }\n",
       "\n",
       "    .dataframe tbody tr th {\n",
       "        vertical-align: top;\n",
       "    }\n",
       "\n",
       "    .dataframe thead th {\n",
       "        text-align: right;\n",
       "    }\n",
       "</style>\n",
       "<table border=\"1\" class=\"dataframe\">\n",
       "  <thead>\n",
       "    <tr style=\"text-align: right;\">\n",
       "      <th></th>\n",
       "      <th>ID_User</th>\n",
       "      <th>Beitrag</th>\n",
       "    </tr>\n",
       "  </thead>\n",
       "  <tbody>\n",
       "    <tr>\n",
       "      <td>592</td>\n",
       "      <td>28526</td>\n",
       "      <td>Im großen war es sehr beeindrucktend. Man kann...</td>\n",
       "    </tr>\n",
       "    <tr>\n",
       "      <td>605</td>\n",
       "      <td>28526</td>\n",
       "      <td>Mir bleibt ein sehr junger Mann (etwa so um di...</td>\n",
       "    </tr>\n",
       "    <tr>\n",
       "      <td>787</td>\n",
       "      <td>6498</td>\n",
       "      <td>ich habe die 1980er damit verbracht in den Ost...</td>\n",
       "    </tr>\n",
       "    <tr>\n",
       "      <td>1121</td>\n",
       "      <td>6247</td>\n",
       "      <td>Vor etwas mehr vielen vielen Jahren, so gegen ...</td>\n",
       "    </tr>\n",
       "    <tr>\n",
       "      <td>1240</td>\n",
       "      <td>6247</td>\n",
       "      <td>Ein Sternehotel im Montafon.In den späten 80ig...</td>\n",
       "    </tr>\n",
       "    <tr>\n",
       "      <td>...</td>\n",
       "      <td>...</td>\n",
       "      <td>...</td>\n",
       "    </tr>\n",
       "    <tr>\n",
       "      <td>1009952</td>\n",
       "      <td>29722</td>\n",
       "      <td>Hier wird etwas getan, was bei Gender auch ger...</td>\n",
       "    </tr>\n",
       "    <tr>\n",
       "      <td>1009996</td>\n",
       "      <td>29722</td>\n",
       "      <td>Andersdenkende einfach als \"Pigs\" also Schwein...</td>\n",
       "    </tr>\n",
       "    <tr>\n",
       "      <td>1009998</td>\n",
       "      <td>29722</td>\n",
       "      <td>Das ist eine lupenreine Verschwörungstheorie: ...</td>\n",
       "    </tr>\n",
       "    <tr>\n",
       "      <td>1010126</td>\n",
       "      <td>29722</td>\n",
       "      <td>Sie machen jetzt genau das, was ich im unteren...</td>\n",
       "    </tr>\n",
       "    <tr>\n",
       "      <td>1010219</td>\n",
       "      <td>22876</td>\n",
       "      <td>Ja, Medien, die in zu direkte Abhängigkeit von...</td>\n",
       "    </tr>\n",
       "  </tbody>\n",
       "</table>\n",
       "<p>19075 rows × 2 columns</p>\n",
       "</div>"
      ],
      "text/plain": [
       "         ID_User                                            Beitrag\n",
       "592        28526  Im großen war es sehr beeindrucktend. Man kann...\n",
       "605        28526  Mir bleibt ein sehr junger Mann (etwa so um di...\n",
       "787         6498  ich habe die 1980er damit verbracht in den Ost...\n",
       "1121        6247  Vor etwas mehr vielen vielen Jahren, so gegen ...\n",
       "1240        6247  Ein Sternehotel im Montafon.In den späten 80ig...\n",
       "...          ...                                                ...\n",
       "1009952    29722  Hier wird etwas getan, was bei Gender auch ger...\n",
       "1009996    29722  Andersdenkende einfach als \"Pigs\" also Schwein...\n",
       "1009998    29722  Das ist eine lupenreine Verschwörungstheorie: ...\n",
       "1010126    29722  Sie machen jetzt genau das, was ich im unteren...\n",
       "1010219    22876  Ja, Medien, die in zu direkte Abhängigkeit von...\n",
       "\n",
       "[19075 rows x 2 columns]"
      ]
     },
     "execution_count": 8,
     "metadata": {},
     "output_type": "execute_result"
    }
   ],
   "source": [
    "df_minArticles"
   ]
  },
  {
   "cell_type": "code",
   "execution_count": 9,
   "metadata": {},
   "outputs": [
    {
     "data": {
      "text/plain": [
       "5854     731\n",
       "25987    613\n",
       "22876    595\n",
       "30344    574\n",
       "14587    512\n",
       "26866    473\n",
       "28816    457\n",
       "20141    419\n",
       "24984    417\n",
       "20349    409\n",
       "3788     406\n",
       "18083    401\n",
       "1795     399\n",
       "15686    382\n",
       "18446    375\n",
       "24667    374\n",
       "6247     367\n",
       "19915    366\n",
       "8765     363\n",
       "15886    360\n",
       "10627    352\n",
       "16722    342\n",
       "3105     338\n",
       "6498     336\n",
       "24758    333\n",
       "11656    332\n",
       "27393    331\n",
       "12471    328\n",
       "30661    328\n",
       "29722    318\n",
       "26532    312\n",
       "2690     304\n",
       "1330     300\n",
       "18940    300\n",
       "18984    299\n",
       "21150    299\n",
       "11582    297\n",
       "24343    294\n",
       "12887    289\n",
       "11910    286\n",
       "8446     285\n",
       "29377    285\n",
       "25582    282\n",
       "12071    281\n",
       "12023    275\n",
       "8323     272\n",
       "1560     270\n",
       "7439     266\n",
       "6169     264\n",
       "27991    264\n",
       "16328    259\n",
       "28526    256\n",
       "18006    254\n",
       "28084    251\n",
       "Name: ID_User, dtype: int64"
      ]
     },
     "execution_count": 9,
     "metadata": {},
     "output_type": "execute_result"
    }
   ],
   "source": [
    "## ID_User - Anzahl passende Beiträge\n",
    "df_minArticles['ID_User'].value_counts()"
   ]
  },
  {
   "cell_type": "code",
   "execution_count": 10,
   "metadata": {},
   "outputs": [],
   "source": [
    "import random\n",
    "\n",
    "UserIDListe = df_minArticles.drop_duplicates(subset = [\"ID_User\"])['ID_User'].tolist()\n",
    "\n",
    "ARTICLES_PER_AUTHOR_BSP = 250\n",
    "AUTHORS = 20\n",
    "IDS = random.sample(UserIDListe, AUTHORS)"
   ]
  },
  {
   "cell_type": "code",
   "execution_count": 11,
   "metadata": {},
   "outputs": [
    {
     "name": "stdout",
     "output_type": "stream",
     "text": [
      "16722, 16328, 18984, 27991, 26532, 11656, 18006, 28084, 1795, 3788, 12471, 18083, 11582, 25582, 12071, 1330, 30344, 8446, 7439, 6498\n"
     ]
    }
   ],
   "source": [
    "## 20 Autoren die den Kriterien entsprechen:\n",
    "print(*IDS, sep=', ')"
   ]
  },
  {
   "cell_type": "code",
   "execution_count": 12,
   "metadata": {},
   "outputs": [],
   "source": [
    "## Erstelle csv Datei für diese 20 Autoren\n",
    "import os  \n",
    "os.makedirs('data/users', exist_ok=True)\n",
    "for x in range(AUTHORS):\n",
    "    df_author = df_minArticles[df_minArticles['ID_User'] == IDS[x]].iloc[:ARTICLES_PER_AUTHOR,:]\n",
    "    df_author.to_csv('data/users/' + str(IDS[x]) + '_posts.csv', index=False, columns=['Beitrag'])"
   ]
  },
  {
   "cell_type": "code",
   "execution_count": null,
   "metadata": {},
   "outputs": [],
   "source": []
  }
 ],
 "metadata": {
  "kernelspec": {
   "display_name": "Python 3",
   "language": "python",
   "name": "python3"
  },
  "language_info": {
   "codemirror_mode": {
    "name": "ipython",
    "version": 3
   },
   "file_extension": ".py",
   "mimetype": "text/x-python",
   "name": "python",
   "nbconvert_exporter": "python",
   "pygments_lexer": "ipython3",
   "version": "3.7.4"
  }
 },
 "nbformat": 4,
 "nbformat_minor": 2
}
