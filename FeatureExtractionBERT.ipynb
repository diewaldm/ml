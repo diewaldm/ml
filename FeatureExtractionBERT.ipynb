{
 "cells": [
  {
   "cell_type": "markdown",
   "id": "d4d1d7d2",
   "metadata": {},
   "source": [
    "https://towardsdatascience.com/feature-extraction-with-bert-for-text-classification-533dde44dc2f"
   ]
  },
  {
   "cell_type": "code",
   "execution_count": 1,
   "id": "da025303",
   "metadata": {},
   "outputs": [],
   "source": [
    "import pandas as pd\n",
    "import numpy as np\n",
    "import matplotlib.pyplot as plt\n",
    "import sqlite3\n",
    "import sqlalchemy as sqla\n",
    "df = pd.read_pickle(\"./dummy.pkl\")"
   ]
  },
  {
   "cell_type": "code",
   "execution_count": 2,
   "id": "3771e513",
   "metadata": {},
   "outputs": [
    {
     "data": {
      "text/html": [
       "<div>\n",
       "<style scoped>\n",
       "    .dataframe tbody tr th:only-of-type {\n",
       "        vertical-align: middle;\n",
       "    }\n",
       "\n",
       "    .dataframe tbody tr th {\n",
       "        vertical-align: top;\n",
       "    }\n",
       "\n",
       "    .dataframe thead th {\n",
       "        text-align: right;\n",
       "    }\n",
       "</style>\n",
       "<table border=\"1\" class=\"dataframe\">\n",
       "  <thead>\n",
       "    <tr style=\"text-align: right;\">\n",
       "      <th></th>\n",
       "      <th>ID_User</th>\n",
       "      <th>Beitrag</th>\n",
       "    </tr>\n",
       "  </thead>\n",
       "  <tbody>\n",
       "    <tr>\n",
       "      <th>0</th>\n",
       "      <td>28526</td>\n",
       "      <td>Das ist eine Schicht von mehreren 1000 möglich...</td>\n",
       "    </tr>\n",
       "    <tr>\n",
       "      <th>1</th>\n",
       "      <td>28526</td>\n",
       "      <td>wird das dann wie bei den arbeitszeugnissen we...</td>\n",
       "    </tr>\n",
       "    <tr>\n",
       "      <th>2</th>\n",
       "      <td>28526</td>\n",
       "      <td>naja ein bisserl mehr als 10-20 prozent der be...</td>\n",
       "    </tr>\n",
       "    <tr>\n",
       "      <th>3</th>\n",
       "      <td>28526</td>\n",
       "      <td>Wobei ich das Beispiel der Mindestsicherung oh...</td>\n",
       "    </tr>\n",
       "    <tr>\n",
       "      <th>4</th>\n",
       "      <td>28526</td>\n",
       "      <td>Also wenn es einen Narrativ in Hollywood gibt,...</td>\n",
       "    </tr>\n",
       "    <tr>\n",
       "      <th>...</th>\n",
       "      <td>...</td>\n",
       "      <td>...</td>\n",
       "    </tr>\n",
       "    <tr>\n",
       "      <th>795</th>\n",
       "      <td>18006</td>\n",
       "      <td>Europa zu einem \"melting pot\" zu machen mit Ku...</td>\n",
       "    </tr>\n",
       "    <tr>\n",
       "      <th>796</th>\n",
       "      <td>18006</td>\n",
       "      <td>Jeder männliche Afghane ist verpflichtet einen...</td>\n",
       "    </tr>\n",
       "    <tr>\n",
       "      <th>797</th>\n",
       "      <td>18006</td>\n",
       "      <td>Man muss die Flüchtlinge nur bis an die türkis...</td>\n",
       "    </tr>\n",
       "    <tr>\n",
       "      <th>798</th>\n",
       "      <td>18006</td>\n",
       "      <td>Nein, die islamistische Terrorgruppe \"Islamisc...</td>\n",
       "    </tr>\n",
       "    <tr>\n",
       "      <th>799</th>\n",
       "      <td>18006</td>\n",
       "      <td>Inzwischen bin ich der Meinung, dass eine eini...</td>\n",
       "    </tr>\n",
       "  </tbody>\n",
       "</table>\n",
       "<p>800 rows × 2 columns</p>\n",
       "</div>"
      ],
      "text/plain": [
       "     ID_User                                            Beitrag\n",
       "0      28526  Das ist eine Schicht von mehreren 1000 möglich...\n",
       "1      28526  wird das dann wie bei den arbeitszeugnissen we...\n",
       "2      28526  naja ein bisserl mehr als 10-20 prozent der be...\n",
       "3      28526  Wobei ich das Beispiel der Mindestsicherung oh...\n",
       "4      28526  Also wenn es einen Narrativ in Hollywood gibt,...\n",
       "..       ...                                                ...\n",
       "795    18006  Europa zu einem \"melting pot\" zu machen mit Ku...\n",
       "796    18006  Jeder männliche Afghane ist verpflichtet einen...\n",
       "797    18006  Man muss die Flüchtlinge nur bis an die türkis...\n",
       "798    18006  Nein, die islamistische Terrorgruppe \"Islamisc...\n",
       "799    18006  Inzwischen bin ich der Meinung, dass eine eini...\n",
       "\n",
       "[800 rows x 2 columns]"
      ]
     },
     "execution_count": 2,
     "metadata": {},
     "output_type": "execute_result"
    }
   ],
   "source": [
    "df"
   ]
  },
  {
   "cell_type": "code",
   "execution_count": 3,
   "id": "9850fe6f",
   "metadata": {},
   "outputs": [],
   "source": [
    "import pandas as pd\n",
    "import numpy as np\n",
    "from sklearn.preprocessing import LabelEncoder"
   ]
  },
  {
   "cell_type": "code",
   "execution_count": 4,
   "id": "60828589",
   "metadata": {},
   "outputs": [
    {
     "data": {
      "text/html": [
       "<div>\n",
       "<style scoped>\n",
       "    .dataframe tbody tr th:only-of-type {\n",
       "        vertical-align: middle;\n",
       "    }\n",
       "\n",
       "    .dataframe tbody tr th {\n",
       "        vertical-align: top;\n",
       "    }\n",
       "\n",
       "    .dataframe thead th {\n",
       "        text-align: right;\n",
       "    }\n",
       "</style>\n",
       "<table border=\"1\" class=\"dataframe\">\n",
       "  <thead>\n",
       "    <tr style=\"text-align: right;\">\n",
       "      <th></th>\n",
       "      <th>ID_User</th>\n",
       "      <th>Beitrag</th>\n",
       "      <th>label</th>\n",
       "    </tr>\n",
       "  </thead>\n",
       "  <tbody>\n",
       "    <tr>\n",
       "      <th>0</th>\n",
       "      <td>28526</td>\n",
       "      <td>Das ist eine Schicht von mehreren 1000 möglich...</td>\n",
       "      <td>15</td>\n",
       "    </tr>\n",
       "    <tr>\n",
       "      <th>1</th>\n",
       "      <td>28526</td>\n",
       "      <td>wird das dann wie bei den arbeitszeugnissen we...</td>\n",
       "      <td>15</td>\n",
       "    </tr>\n",
       "    <tr>\n",
       "      <th>2</th>\n",
       "      <td>28526</td>\n",
       "      <td>naja ein bisserl mehr als 10-20 prozent der be...</td>\n",
       "      <td>15</td>\n",
       "    </tr>\n",
       "    <tr>\n",
       "      <th>3</th>\n",
       "      <td>28526</td>\n",
       "      <td>Wobei ich das Beispiel der Mindestsicherung oh...</td>\n",
       "      <td>15</td>\n",
       "    </tr>\n",
       "    <tr>\n",
       "      <th>4</th>\n",
       "      <td>28526</td>\n",
       "      <td>Also wenn es einen Narrativ in Hollywood gibt,...</td>\n",
       "      <td>15</td>\n",
       "    </tr>\n",
       "    <tr>\n",
       "      <th>...</th>\n",
       "      <td>...</td>\n",
       "      <td>...</td>\n",
       "      <td>...</td>\n",
       "    </tr>\n",
       "    <tr>\n",
       "      <th>795</th>\n",
       "      <td>18006</td>\n",
       "      <td>Europa zu einem \"melting pot\" zu machen mit Ku...</td>\n",
       "      <td>8</td>\n",
       "    </tr>\n",
       "    <tr>\n",
       "      <th>796</th>\n",
       "      <td>18006</td>\n",
       "      <td>Jeder männliche Afghane ist verpflichtet einen...</td>\n",
       "      <td>8</td>\n",
       "    </tr>\n",
       "    <tr>\n",
       "      <th>797</th>\n",
       "      <td>18006</td>\n",
       "      <td>Man muss die Flüchtlinge nur bis an die türkis...</td>\n",
       "      <td>8</td>\n",
       "    </tr>\n",
       "    <tr>\n",
       "      <th>798</th>\n",
       "      <td>18006</td>\n",
       "      <td>Nein, die islamistische Terrorgruppe \"Islamisc...</td>\n",
       "      <td>8</td>\n",
       "    </tr>\n",
       "    <tr>\n",
       "      <th>799</th>\n",
       "      <td>18006</td>\n",
       "      <td>Inzwischen bin ich der Meinung, dass eine eini...</td>\n",
       "      <td>8</td>\n",
       "    </tr>\n",
       "  </tbody>\n",
       "</table>\n",
       "<p>800 rows × 3 columns</p>\n",
       "</div>"
      ],
      "text/plain": [
       "     ID_User                                            Beitrag  label\n",
       "0      28526  Das ist eine Schicht von mehreren 1000 möglich...     15\n",
       "1      28526  wird das dann wie bei den arbeitszeugnissen we...     15\n",
       "2      28526  naja ein bisserl mehr als 10-20 prozent der be...     15\n",
       "3      28526  Wobei ich das Beispiel der Mindestsicherung oh...     15\n",
       "4      28526  Also wenn es einen Narrativ in Hollywood gibt,...     15\n",
       "..       ...                                                ...    ...\n",
       "795    18006  Europa zu einem \"melting pot\" zu machen mit Ku...      8\n",
       "796    18006  Jeder männliche Afghane ist verpflichtet einen...      8\n",
       "797    18006  Man muss die Flüchtlinge nur bis an die türkis...      8\n",
       "798    18006  Nein, die islamistische Terrorgruppe \"Islamisc...      8\n",
       "799    18006  Inzwischen bin ich der Meinung, dass eine eini...      8\n",
       "\n",
       "[800 rows x 3 columns]"
      ]
     },
     "execution_count": 4,
     "metadata": {},
     "output_type": "execute_result"
    }
   ],
   "source": [
    "LE = LabelEncoder()\n",
    "df['label'] = LE.fit_transform(df['ID_User'])\n",
    "df"
   ]
  },
  {
   "cell_type": "code",
   "execution_count": 5,
   "id": "e97b59a1",
   "metadata": {},
   "outputs": [
    {
     "name": "stderr",
     "output_type": "stream",
     "text": [
      "Some weights of the model checkpoint at distilbert-base-german-cased were not used when initializing DistilBertModel: ['vocab_layer_norm.bias', 'vocab_transform.bias', 'vocab_transform.weight', 'vocab_layer_norm.weight', 'vocab_projector.bias', 'vocab_projector.weight']\n",
      "- This IS expected if you are initializing DistilBertModel from the checkpoint of a model trained on another task or with another architecture (e.g. initializing a BertForSequenceClassification model from a BertForPreTraining model).\n",
      "- This IS NOT expected if you are initializing DistilBertModel from the checkpoint of a model that you expect to be exactly identical (initializing a BertForSequenceClassification model from a BertForSequenceClassification model).\n"
     ]
    }
   ],
   "source": [
    "import torch\n",
    "from transformers import AutoTokenizer, AutoModel\n",
    "\n",
    "device = torch.device('cpu')\n",
    "\n",
    "tokenizer = AutoTokenizer.from_pretrained(\"distilbert-base-german-cased\")\n",
    "model = AutoModel.from_pretrained(\"distilbert-base-german-cased\").to(device)"
   ]
  },
  {
   "cell_type": "code",
   "execution_count": 6,
   "id": "171eb762",
   "metadata": {},
   "outputs": [],
   "source": [
    "from sklearn.model_selection import train_test_split\n",
    "df_train, df_test = train_test_split(df, test_size=0.2, random_state=42, shuffle=True)"
   ]
  },
  {
   "cell_type": "code",
   "execution_count": 7,
   "id": "448d26cb",
   "metadata": {},
   "outputs": [
    {
     "name": "stdout",
     "output_type": "stream",
     "text": [
      "dict_keys(['input_ids', 'attention_mask'])\n"
     ]
    }
   ],
   "source": [
    "%%capture --no-stdout\n",
    "\n",
    "tokenized_train = tokenizer(df_train[\"Beitrag\"].values.tolist(), padding = True, truncation = True, return_tensors=\"pt\")\n",
    "tokenized_test = tokenizer(df_test[\"Beitrag\"].values.tolist() , padding = True, truncation = True,  return_tensors=\"pt\")\n",
    "\n",
    "print(tokenized_train.keys())\n",
    "\n",
    "tokenized_train = {k:torch.tensor(v).to(device) for k,v in tokenized_train.items()}\n",
    "tokenized_test = {k:torch.tensor(v).to(device) for k,v in tokenized_test.items()}"
   ]
  },
  {
   "cell_type": "code",
   "execution_count": 8,
   "id": "ac603b23",
   "metadata": {},
   "outputs": [],
   "source": [
    "with torch.no_grad():\n",
    "  hidden_train = model(**tokenized_train) #dim : [batch_size(nr_sentences), tokens, emb_dim]\n",
    "  hidden_test = model(**tokenized_test)\n",
    "\n",
    "#get only the [CLS] hidden states\n",
    "cls_train = hidden_train.last_hidden_state[:,0,:]\n",
    "cls_test = hidden_test.last_hidden_state[:,0,:]"
   ]
  },
  {
   "cell_type": "code",
   "execution_count": 9,
   "id": "479e928a",
   "metadata": {},
   "outputs": [
    {
     "name": "stdout",
     "output_type": "stream",
     "text": [
      "torch.Size([640, 768]) (640,) torch.Size([160, 768]) (160,)\n"
     ]
    }
   ],
   "source": [
    "x_train = cls_train.to(\"cpu\")\n",
    "y_train = df_train[\"label\"]\n",
    "\n",
    "x_test = cls_test.to(\"cpu\")\n",
    "y_test = df_test[\"label\"]\n",
    "\n",
    "print(x_train.shape, y_train.shape, x_test.shape, y_test.shape)"
   ]
  },
  {
   "cell_type": "code",
   "execution_count": 10,
   "id": "cf3d4159",
   "metadata": {},
   "outputs": [],
   "source": [
    "from sklearn.metrics import confusion_matrix, ConfusionMatrixDisplay\n",
    "from sklearn.metrics import *"
   ]
  },
  {
   "cell_type": "code",
   "execution_count": 14,
   "id": "0d7be927",
   "metadata": {},
   "outputs": [],
   "source": [
    "from sklearn.ensemble import RandomForestClassifier\n",
    "\n",
    "model = RandomForestClassifier(n_estimators=100)\n",
    "model.fit(x_train,y_train)\n",
    "y_pred = model.predict(x_test)\n",
    "\n",
    "accuracy = round(accuracy_score(y_test, y_pred) * 100, 2)\n",
    "precision = round(precision_score(y_test, y_pred, average='macro', zero_division=0) * 100, 2)\n",
    "recall = round(recall_score(y_test, y_pred, average='macro') * 100, 2)\n",
    "fscore = round(f1_score(y_test, y_pred, average='macro') * 100, 2)\n",
    "df = pd.DataFrame(model.predict_proba(x_test), columns=model.classes_, index=y_test)\n",
    "matrix = (confusion_matrix(y_test, y_pred))"
   ]
  },
  {
   "cell_type": "code",
   "execution_count": 15,
   "id": "05361974",
   "metadata": {},
   "outputs": [
    {
     "data": {
      "image/png": "[encoded data removed]",
      "text/plain": [
       "<Figure size 720x720 with 2 Axes>"
      ]
     },
     "metadata": {
      "needs_background": "light"
     },
     "output_type": "display_data"
    }
   ],
   "source": [
    "import seaborn as sns\n",
    "\n",
    "fig, ax = plt.subplots(figsize=(10,10))\n",
    "ax = sns.heatmap(matrix, annot=True, fmt='d', xticklabels=model.classes_, yticklabels=model.classes_)\n",
    "bottom, top = ax.get_ylim()\n",
    "plt.ylabel('Actual')\n",
    "plt.xlabel('Predicted')\n",
    "plt.show()"
   ]
  },
  {
   "cell_type": "code",
   "execution_count": 16,
   "id": "2e81b2ca",
   "metadata": {},
   "outputs": [
    {
     "name": "stdout",
     "output_type": "stream",
     "text": [
      "Test Accuracy: 56.25\n",
      "Test Precision: 56.04\n",
      "Test Recall: 55.92\n",
      "Test Fscore: 54.68\n"
     ]
    }
   ],
   "source": [
    "print(\"Test Accuracy: %.2f\\nTest Precision: %.2f\\nTest Recall: %.2f\\nTest Fscore: %.2f\" % (\n",
    "        accuracy, precision, recall, fscore))"
   ]
  },
  {
   "cell_type": "code",
   "execution_count": null,
   "id": "81bb16f0",
   "metadata": {},
   "outputs": [],
   "source": []
  }
 ],
 "metadata": {
  "kernelspec": {
   "display_name": "pytorch_trial_0",
   "language": "python",
   "name": "pytorch_trial_0"
  },
  "language_info": {
   "codemirror_mode": {
    "name": "ipython",
    "version": 3
   },
   "file_extension": ".py",
   "mimetype": "text/x-python",
   "name": "python",
   "nbconvert_exporter": "python",
   "pygments_lexer": "ipython3",
   "version": "3.10.4"
  }
 },
 "nbformat": 4,
 "nbformat_minor": 5
}
