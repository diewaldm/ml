{
 "cells": [
  {
   "cell_type": "code",
   "execution_count": 1,
   "metadata": {},
   "outputs": [],
   "source": [
    "ARTICLES_MIN_LENGTH = 300\n",
    "ARTICLES_PER_AUTHOR = 250\n",
    "AUTHORS_TO_KEEP = 20"
   ]
  },
  {
   "cell_type": "code",
   "execution_count": 2,
   "metadata": {},
   "outputs": [],
   "source": [
    "import pandas as pd\n",
    "import numpy as np\n",
    "import matplotlib.pyplot as plt\n",
    "import sqlite3\n",
    "import sqlalchemy as sqla\n",
    "\n",
    "con = sqlite3.connect(\"../../OneMillion/million_post_corpus/corpus.sqlite3\", isolation_level=None,\n",
    "                       detect_types=sqlite3.PARSE_COLNAMES)\n",
    "\n",
    "df = pd.read_sql_query(\"SELECT distinct ID_User, COALESCE(Headline, '') || COALESCE(Body, '') as Beitrag from Posts\", con)\n",
    "\n",
    "url = r\"https?:\\/\\/(www\\.)?[-a-zA-Z0-9@:%._\\+~#=]{1,256}\\.[a-zA-Z0-9()]{1,6}\\b([-a-zA-Z0-9()!@:%_\\+.~#?&\\/\\/=]*)\"\n",
    "\n",
    "df = df.replace(to_replace=[r\"\\\\t|\\\\n|\\\\r\", \"\\t|\\n|\\r\", url], value=[\" \",\" \", \"LINK\"], regex=True)\n",
    "\n",
    "df_minLength = df.loc[df['Beitrag'].apply(len) > ARTICLES_MIN_LENGTH]"
   ]
  },
  {
   "cell_type": "code",
   "execution_count": 3,
   "metadata": {},
   "outputs": [],
   "source": [
    "## neuer Datensatz ohne User mit weniger als 250 Beiträgen\n",
    "df_minArticles = df_minLength.groupby('ID_User').filter(lambda x : len(x) >= ARTICLES_PER_AUTHOR)"
   ]
  },
  {
   "cell_type": "code",
   "execution_count": 4,
   "metadata": {},
   "outputs": [
    {
     "data": {
      "text/html": [
       "<div>\n",
       "<style scoped>\n",
       "    .dataframe tbody tr th:only-of-type {\n",
       "        vertical-align: middle;\n",
       "    }\n",
       "\n",
       "    .dataframe tbody tr th {\n",
       "        vertical-align: top;\n",
       "    }\n",
       "\n",
       "    .dataframe thead th {\n",
       "        text-align: right;\n",
       "    }\n",
       "</style>\n",
       "<table border=\"1\" class=\"dataframe\">\n",
       "  <thead>\n",
       "    <tr style=\"text-align: right;\">\n",
       "      <th></th>\n",
       "      <th>ID_User</th>\n",
       "      <th>Beitrag</th>\n",
       "    </tr>\n",
       "  </thead>\n",
       "  <tbody>\n",
       "    <tr>\n",
       "      <th>592</th>\n",
       "      <td>28526</td>\n",
       "      <td>Im großen war es sehr beeindrucktend. Man kann...</td>\n",
       "    </tr>\n",
       "    <tr>\n",
       "      <th>605</th>\n",
       "      <td>28526</td>\n",
       "      <td>Mir bleibt ein sehr junger Mann (etwa so um di...</td>\n",
       "    </tr>\n",
       "    <tr>\n",
       "      <th>787</th>\n",
       "      <td>6498</td>\n",
       "      <td>ich habe die 1980er damit verbracht in den Ost...</td>\n",
       "    </tr>\n",
       "    <tr>\n",
       "      <th>1121</th>\n",
       "      <td>6247</td>\n",
       "      <td>Vor etwas mehr vielen vielen Jahren, so gegen ...</td>\n",
       "    </tr>\n",
       "    <tr>\n",
       "      <th>1240</th>\n",
       "      <td>6247</td>\n",
       "      <td>Ein Sternehotel im Montafon.In den späten 80ig...</td>\n",
       "    </tr>\n",
       "    <tr>\n",
       "      <th>...</th>\n",
       "      <td>...</td>\n",
       "      <td>...</td>\n",
       "    </tr>\n",
       "    <tr>\n",
       "      <th>1009952</th>\n",
       "      <td>29722</td>\n",
       "      <td>Hier wird etwas getan, was bei Gender auch ger...</td>\n",
       "    </tr>\n",
       "    <tr>\n",
       "      <th>1009996</th>\n",
       "      <td>29722</td>\n",
       "      <td>Andersdenkende einfach als \"Pigs\" also Schwein...</td>\n",
       "    </tr>\n",
       "    <tr>\n",
       "      <th>1009998</th>\n",
       "      <td>29722</td>\n",
       "      <td>Das ist eine lupenreine Verschwörungstheorie: ...</td>\n",
       "    </tr>\n",
       "    <tr>\n",
       "      <th>1010126</th>\n",
       "      <td>29722</td>\n",
       "      <td>Sie machen jetzt genau das, was ich im unteren...</td>\n",
       "    </tr>\n",
       "    <tr>\n",
       "      <th>1010219</th>\n",
       "      <td>22876</td>\n",
       "      <td>Ja, Medien, die in zu direkte Abhängigkeit von...</td>\n",
       "    </tr>\n",
       "  </tbody>\n",
       "</table>\n",
       "<p>19075 rows × 2 columns</p>\n",
       "</div>"
      ],
      "text/plain": [
       "         ID_User                                            Beitrag\n",
       "592        28526  Im großen war es sehr beeindrucktend. Man kann...\n",
       "605        28526  Mir bleibt ein sehr junger Mann (etwa so um di...\n",
       "787         6498  ich habe die 1980er damit verbracht in den Ost...\n",
       "1121        6247  Vor etwas mehr vielen vielen Jahren, so gegen ...\n",
       "1240        6247  Ein Sternehotel im Montafon.In den späten 80ig...\n",
       "...          ...                                                ...\n",
       "1009952    29722  Hier wird etwas getan, was bei Gender auch ger...\n",
       "1009996    29722  Andersdenkende einfach als \"Pigs\" also Schwein...\n",
       "1009998    29722  Das ist eine lupenreine Verschwörungstheorie: ...\n",
       "1010126    29722  Sie machen jetzt genau das, was ich im unteren...\n",
       "1010219    22876  Ja, Medien, die in zu direkte Abhängigkeit von...\n",
       "\n",
       "[19075 rows x 2 columns]"
      ]
     },
     "execution_count": 4,
     "metadata": {},
     "output_type": "execute_result"
    }
   ],
   "source": [
    "df_minArticles"
   ]
  },
  {
   "cell_type": "code",
   "execution_count": 5,
   "metadata": {},
   "outputs": [
    {
     "data": {
      "text/plain": [
       "5854     731\n",
       "25987    613\n",
       "22876    595\n",
       "30344    574\n",
       "14587    512\n",
       "26866    473\n",
       "28816    457\n",
       "20141    419\n",
       "24984    417\n",
       "20349    409\n",
       "3788     406\n",
       "18083    401\n",
       "1795     399\n",
       "15686    382\n",
       "18446    375\n",
       "24667    374\n",
       "6247     367\n",
       "19915    366\n",
       "8765     363\n",
       "15886    360\n",
       "10627    352\n",
       "16722    342\n",
       "3105     338\n",
       "6498     336\n",
       "24758    333\n",
       "11656    332\n",
       "27393    331\n",
       "12471    328\n",
       "30661    328\n",
       "29722    318\n",
       "26532    312\n",
       "2690     304\n",
       "1330     300\n",
       "18940    300\n",
       "18984    299\n",
       "21150    299\n",
       "11582    297\n",
       "24343    294\n",
       "12887    289\n",
       "11910    286\n",
       "29377    285\n",
       "8446     285\n",
       "25582    282\n",
       "12071    281\n",
       "12023    275\n",
       "8323     272\n",
       "1560     270\n",
       "7439     266\n",
       "6169     264\n",
       "27991    264\n",
       "16328    259\n",
       "28526    256\n",
       "18006    254\n",
       "28084    251\n",
       "Name: ID_User, dtype: int64"
      ]
     },
     "execution_count": 5,
     "metadata": {},
     "output_type": "execute_result"
    }
   ],
   "source": [
    "## ID_User - Anzahl passende Beiträge\n",
    "df_minArticles['ID_User'].value_counts()"
   ]
  },
  {
   "cell_type": "code",
   "execution_count": 6,
   "metadata": {},
   "outputs": [],
   "source": [
    "UserIDListe = df_minArticles.drop_duplicates(subset = [\"ID_User\"])['ID_User'].tolist()"
   ]
  },
  {
   "cell_type": "code",
   "execution_count": 7,
   "metadata": {},
   "outputs": [
    {
     "name": "stdout",
     "output_type": "stream",
     "text": [
      "[3788, 2690, 11910, 18446, 29377, 6247, 15686, 21150, 15886, 11582, 28816, 3105, 25987, 24343, 16722, 29722, 24667, 6498, 27991, 12071]\n"
     ]
    }
   ],
   "source": [
    "## AUTHORS_TO_KEEP User aus der Liste - (zufällig sinnvoll? )\n",
    "import random\n",
    "IDS = random.sample(UserIDListe, AUTHORS_TO_KEEP)\n",
    "print(IDS)"
   ]
  },
  {
   "cell_type": "code",
   "execution_count": 8,
   "metadata": {},
   "outputs": [],
   "source": [
    "df_nArticlesPerUser = pd.DataFrame({\"ID_User\": [], 'Beitrag': []})\n",
    "df_nArticlesPerUser['ID_User'] = df_nArticlesPerUser['ID_User'].astype(int)\n",
    "\n",
    "for userID in IDS:\n",
    "    df_nArticlesPerUser = pd.concat([df_nArticlesPerUser, df_minArticles.query(\"ID_User == @userID\")[['ID_User','Beitrag']].sample(n = 250, replace = False)])\n",
    "    \n",
    "df_nArticlesPerUser = df_nArticlesPerUser.reset_index(drop=True)"
   ]
  },
  {
   "cell_type": "code",
   "execution_count": 9,
   "metadata": {},
   "outputs": [
    {
     "data": {
      "text/html": [
       "<div>\n",
       "<style scoped>\n",
       "    .dataframe tbody tr th:only-of-type {\n",
       "        vertical-align: middle;\n",
       "    }\n",
       "\n",
       "    .dataframe tbody tr th {\n",
       "        vertical-align: top;\n",
       "    }\n",
       "\n",
       "    .dataframe thead th {\n",
       "        text-align: right;\n",
       "    }\n",
       "</style>\n",
       "<table border=\"1\" class=\"dataframe\">\n",
       "  <thead>\n",
       "    <tr style=\"text-align: right;\">\n",
       "      <th></th>\n",
       "      <th>ID_User</th>\n",
       "      <th>Beitrag</th>\n",
       "    </tr>\n",
       "  </thead>\n",
       "  <tbody>\n",
       "    <tr>\n",
       "      <th>0</th>\n",
       "      <td>3788</td>\n",
       "      <td>Nein, in Tunesien, Sie Schlaumeier...denn der ...</td>\n",
       "    </tr>\n",
       "    <tr>\n",
       "      <th>1</th>\n",
       "      <td>3788</td>\n",
       "      <td>Selten so einen Mumpitz gelesen. Außer ein bis...</td>\n",
       "    </tr>\n",
       "    <tr>\n",
       "      <th>2</th>\n",
       "      <td>3788</td>\n",
       "      <td>Also...wie oben beschrieben, wird sich Israel ...</td>\n",
       "    </tr>\n",
       "    <tr>\n",
       "      <th>3</th>\n",
       "      <td>3788</td>\n",
       "      <td>Sie haben da eben einige Details ausgelassen.....</td>\n",
       "    </tr>\n",
       "    <tr>\n",
       "      <th>4</th>\n",
       "      <td>3788</td>\n",
       "      <td>Genau! Lauter \"Behauptungen\" anonymer Zeugen, ...</td>\n",
       "    </tr>\n",
       "    <tr>\n",
       "      <th>...</th>\n",
       "      <td>...</td>\n",
       "      <td>...</td>\n",
       "    </tr>\n",
       "    <tr>\n",
       "      <th>4995</th>\n",
       "      <td>12071</td>\n",
       "      <td>Hier geht es nur ums Greek-bashing, die arroga...</td>\n",
       "    </tr>\n",
       "    <tr>\n",
       "      <th>4996</th>\n",
       "      <td>12071</td>\n",
       "      <td>Und unsere Spitäler erbaut der Hielige Geist, ...</td>\n",
       "    </tr>\n",
       "    <tr>\n",
       "      <th>4997</th>\n",
       "      <td>12071</td>\n",
       "      <td>Wenn hier Behauptungen aufgestellt werden, die...</td>\n",
       "    </tr>\n",
       "    <tr>\n",
       "      <th>4998</th>\n",
       "      <td>12071</td>\n",
       "      <td>Diese rückständigen Despoten, sind die Kriegsh...</td>\n",
       "    </tr>\n",
       "    <tr>\n",
       "      <th>4999</th>\n",
       "      <td>12071</td>\n",
       "      <td>Haben Sie eine Ahnung was \"Schmerzen im Rücken...</td>\n",
       "    </tr>\n",
       "  </tbody>\n",
       "</table>\n",
       "<p>5000 rows × 2 columns</p>\n",
       "</div>"
      ],
      "text/plain": [
       "      ID_User                                            Beitrag\n",
       "0        3788  Nein, in Tunesien, Sie Schlaumeier...denn der ...\n",
       "1        3788  Selten so einen Mumpitz gelesen. Außer ein bis...\n",
       "2        3788  Also...wie oben beschrieben, wird sich Israel ...\n",
       "3        3788  Sie haben da eben einige Details ausgelassen.....\n",
       "4        3788  Genau! Lauter \"Behauptungen\" anonymer Zeugen, ...\n",
       "...       ...                                                ...\n",
       "4995    12071  Hier geht es nur ums Greek-bashing, die arroga...\n",
       "4996    12071  Und unsere Spitäler erbaut der Hielige Geist, ...\n",
       "4997    12071  Wenn hier Behauptungen aufgestellt werden, die...\n",
       "4998    12071  Diese rückständigen Despoten, sind die Kriegsh...\n",
       "4999    12071  Haben Sie eine Ahnung was \"Schmerzen im Rücken...\n",
       "\n",
       "[5000 rows x 2 columns]"
      ]
     },
     "execution_count": 9,
     "metadata": {},
     "output_type": "execute_result"
    }
   ],
   "source": [
    "df_nArticlesPerUser"
   ]
  },
  {
   "cell_type": "code",
   "execution_count": 10,
   "metadata": {},
   "outputs": [
    {
     "data": {
      "text/plain": [
       "(5000, 2267)"
      ]
     },
     "execution_count": 10,
     "metadata": {},
     "output_type": "execute_result"
    }
   ],
   "source": [
    "from sklearn.feature_extraction.text import TfidfVectorizer\n",
    "\n",
    "tfidf = TfidfVectorizer(min_df=15)\n",
    "features = tfidf.fit_transform(df_nArticlesPerUser.Beitrag).toarray()\n",
    "labels = df_nArticlesPerUser.ID_User\n",
    "features.shape"
   ]
  },
  {
   "cell_type": "code",
   "execution_count": 11,
   "metadata": {},
   "outputs": [
    {
     "data": {
      "image/png": "[encoded data removed]",
      "text/plain": [
       "<Figure size 432x288 with 1 Axes>"
      ]
     },
     "metadata": {
      "needs_background": "light"
     },
     "output_type": "display_data"
    }
   ],
   "source": [
    "from sklearn.linear_model import LogisticRegression\n",
    "from sklearn.ensemble import RandomForestClassifier\n",
    "from sklearn.svm import LinearSVC\n",
    "from sklearn.naive_bayes import MultinomialNB\n",
    "from sklearn.model_selection import cross_val_score\n",
    "import seaborn as sns\n",
    "\n",
    "models = [\n",
    "RandomForestClassifier(n_estimators=100),\n",
    "LinearSVC(),\n",
    "MultinomialNB(),\n",
    "LogisticRegression(),\n",
    "]\n",
    "\n",
    "CV = 5\n",
    "cv_df = pd.DataFrame(index=range(CV * len(models)))\n",
    "entries = []\n",
    "\n",
    "for model in models:\n",
    "    model_name = model.__class__.__name__\n",
    "    accuracies = cross_val_score(model, features, labels, scoring='accuracy',cv=CV)\n",
    "    for fold_idx, accuracy in enumerate(accuracies):\n",
    "        entries.append((model_name, fold_idx, accuracy))\n",
    "cv_df = pd.DataFrame(entries, columns=['model_name', 'fold_idx', 'accuracy'])\n",
    "\n",
    "sns.boxplot(x='model_name', y='accuracy', data=cv_df)\n",
    "sns.stripplot(x='model_name', y='accuracy', data=cv_df, size=8, jitter=True, edgecolor=\"gray\", linewidth=2)\n",
    "sns.set(rc={\"figure.figsize\":(3, 4)})\n",
    "plt.show()"
   ]
  },
  {
   "cell_type": "code",
   "execution_count": 12,
   "metadata": {},
   "outputs": [
    {
     "data": {
      "text/plain": [
       "model_name\n",
       "LinearSVC                 0.7246\n",
       "LogisticRegression        0.7066\n",
       "MultinomialNB             0.7012\n",
       "RandomForestClassifier    0.5124\n",
       "Name: accuracy, dtype: float64"
      ]
     },
     "execution_count": 12,
     "metadata": {},
     "output_type": "execute_result"
    }
   ],
   "source": [
    "cv_df.groupby('model_name').accuracy.mean()"
   ]
  },
  {
   "cell_type": "code",
   "execution_count": 48,
   "metadata": {},
   "outputs": [],
   "source": [
    "from sklearn.metrics import confusion_matrix, ConfusionMatrixDisplay\n",
    "\n",
    "# Model mit höchster Accuracy: LinearSVC\n",
    "from sklearn.metrics import confusion_matrix\n",
    "from sklearn.model_selection import train_test_split\n",
    "model = LinearSVC()\n",
    "X_train, X_test, y_train, y_test =train_test_split(features, labels, test_size=0.2, random_state=0)\n",
    "model.fit(X_train, y_train)\n",
    "y_pred = model.predict(X_test)\n",
    "matrix = confusion_matrix(y_test, y_pred)\n",
    "\n",
    "#disp = ConfusionMatrixDisplay(matrix, display_labels=IDS[0:AUTHORS_TO_KEEP])\n",
    "#fig, ax = plt.subplots(figsize=(10,10))\n",
    "#disp.plot(ax=ax)\n",
    "#plt.show()"
   ]
  },
  {
   "cell_type": "code",
   "execution_count": 45,
   "metadata": {},
   "outputs": [
    {
     "data": {
      "image/png": "[encoded data removed]",
      "text/plain": [
       "<Figure size 720x720 with 2 Axes>"
      ]
     },
     "metadata": {},
     "output_type": "display_data"
    }
   ],
   "source": [
    "fig, ax = plt.subplots(figsize=(10,10))\n",
    "ax = sns.heatmap(matrix, annot=True, fmt='d', xticklabels=IDS[0:AUTHORS_TO_KEEP], yticklabels=IDS[0:AUTHORS_TO_KEEP])\n",
    "bottom, top = ax.get_ylim()\n",
    "ax.set_ylim(bottom + 0.5, top - 0.5)\n",
    "plt.ylabel('Actual')\n",
    "plt.xlabel('Predicted')\n",
    "plt.show()"
   ]
  },
  {
   "cell_type": "code",
   "execution_count": null,
   "metadata": {},
   "outputs": [],
   "source": []
  }
 ],
 "metadata": {
  "kernelspec": {
   "display_name": "Python 3",
   "language": "python",
   "name": "python3"
  },
  "language_info": {
   "codemirror_mode": {
    "name": "ipython",
    "version": 3
   },
   "file_extension": ".py",
   "mimetype": "text/x-python",
   "name": "python",
   "nbconvert_exporter": "python",
   "pygments_lexer": "ipython3",
   "version": "3.7.4"
  }
 },
 "nbformat": 4,
 "nbformat_minor": 2
}
