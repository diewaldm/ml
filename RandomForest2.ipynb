{
 "cells": [
  {
   "cell_type": "code",
   "execution_count": 1,
   "metadata": {},
   "outputs": [],
   "source": [
    "import pandas as pd\n",
    "import sqlite3\n",
    "import matplotlib.pyplot as plt"
   ]
  },
  {
   "cell_type": "code",
   "execution_count": 2,
   "metadata": {},
   "outputs": [],
   "source": [
    "conn = sqlite3.connect(\"OneMillion/million_post_corpus/corpus.sqlite3\", isolation_level=None,\n",
    "                       detect_types=sqlite3.PARSE_COLNAMES)"
   ]
  },
  {
   "cell_type": "code",
   "execution_count": 3,
   "metadata": {},
   "outputs": [],
   "source": [
    "\n",
    "conn = sqlite3.connect(\"OneMillion/million_post_corpus/corpus.sqlite3\", isolation_level=None,\n",
    "                       detect_types=sqlite3.PARSE_COLNAMES)\n",
    "db_df = pd.read_sql_query(\"SELECT ID_User, Body from Posts WHERE ID_User in (SELECT ID_User from Posts GROUP BY ID_User HAVING count(*) >= 250)\", conn)\n",
    "db_df.to_csv('ompdatabase.csv', index=False)"
   ]
  },
  {
   "cell_type": "code",
   "execution_count": 4,
   "metadata": {},
   "outputs": [],
   "source": [
    "df = pd.read_csv('ompdatabase.csv')\n",
    "col = ['ID_User', 'Body']\n",
    "df = df[col]"
   ]
  },
  {
   "cell_type": "code",
   "execution_count": 5,
   "metadata": {},
   "outputs": [
    {
     "data": {
      "text/plain": [
       "(366459, 2)"
      ]
     },
     "execution_count": 5,
     "metadata": {},
     "output_type": "execute_result"
    }
   ],
   "source": [
    "df.shape"
   ]
  },
  {
   "cell_type": "code",
   "execution_count": 6,
   "metadata": {},
   "outputs": [],
   "source": [
    "df.dropna(subset={'Body'}, inplace=True)"
   ]
  },
  {
   "cell_type": "code",
   "execution_count": 7,
   "metadata": {},
   "outputs": [
    {
     "data": {
      "text/plain": [
       "(350194, 2)"
      ]
     },
     "execution_count": 7,
     "metadata": {},
     "output_type": "execute_result"
    }
   ],
   "source": [
    "df.shape"
   ]
  },
  {
   "cell_type": "code",
   "execution_count": 8,
   "metadata": {},
   "outputs": [
    {
     "data": {
      "text/html": [
       "<div>\n",
       "<style scoped>\n",
       "    .dataframe tbody tr th:only-of-type {\n",
       "        vertical-align: middle;\n",
       "    }\n",
       "\n",
       "    .dataframe tbody tr th {\n",
       "        vertical-align: top;\n",
       "    }\n",
       "\n",
       "    .dataframe thead th {\n",
       "        text-align: right;\n",
       "    }\n",
       "</style>\n",
       "<table border=\"1\" class=\"dataframe\">\n",
       "  <thead>\n",
       "    <tr style=\"text-align: right;\">\n",
       "      <th></th>\n",
       "      <th>ID_User</th>\n",
       "      <th>Body</th>\n",
       "    </tr>\n",
       "  </thead>\n",
       "  <tbody>\n",
       "    <tr>\n",
       "      <td>0</td>\n",
       "      <td>9036</td>\n",
       "      <td>per RSS feed</td>\n",
       "    </tr>\n",
       "    <tr>\n",
       "      <td>1</td>\n",
       "      <td>12071</td>\n",
       "      <td>ich kann keinen hinweis finden, wo man sich hi...</td>\n",
       "    </tr>\n",
       "    <tr>\n",
       "      <td>2</td>\n",
       "      <td>27465</td>\n",
       "      <td>Sehr geehrte Community oder cmb!\\r\\n\\r\\nBekomm...</td>\n",
       "    </tr>\n",
       "    <tr>\n",
       "      <td>3</td>\n",
       "      <td>27465</td>\n",
       "      <td>@ sni, danke für die Antwort! Habe das ehrlich...</td>\n",
       "    </tr>\n",
       "    <tr>\n",
       "      <td>4</td>\n",
       "      <td>12318</td>\n",
       "      <td>In einer Welt, in der man jede endliche Zahl v...</td>\n",
       "    </tr>\n",
       "  </tbody>\n",
       "</table>\n",
       "</div>"
      ],
      "text/plain": [
       "   ID_User                                               Body\n",
       "0     9036                                       per RSS feed\n",
       "1    12071  ich kann keinen hinweis finden, wo man sich hi...\n",
       "2    27465  Sehr geehrte Community oder cmb!\\r\\n\\r\\nBekomm...\n",
       "3    27465  @ sni, danke für die Antwort! Habe das ehrlich...\n",
       "4    12318  In einer Welt, in der man jede endliche Zahl v..."
      ]
     },
     "execution_count": 8,
     "metadata": {},
     "output_type": "execute_result"
    }
   ],
   "source": [
    "df.head()"
   ]
  },
  {
   "cell_type": "code",
   "execution_count": 9,
   "metadata": {},
   "outputs": [
    {
     "data": {
      "text/html": [
       "<div>\n",
       "<style scoped>\n",
       "    .dataframe tbody tr th:only-of-type {\n",
       "        vertical-align: middle;\n",
       "    }\n",
       "\n",
       "    .dataframe tbody tr th {\n",
       "        vertical-align: top;\n",
       "    }\n",
       "\n",
       "    .dataframe thead th {\n",
       "        text-align: right;\n",
       "    }\n",
       "</style>\n",
       "<table border=\"1\" class=\"dataframe\">\n",
       "  <thead>\n",
       "    <tr style=\"text-align: right;\">\n",
       "      <th></th>\n",
       "      <th>ID_User</th>\n",
       "      <th>Body</th>\n",
       "      <th>short_id</th>\n",
       "    </tr>\n",
       "  </thead>\n",
       "  <tbody>\n",
       "    <tr>\n",
       "      <td>0</td>\n",
       "      <td>9036</td>\n",
       "      <td>per RSS feed</td>\n",
       "      <td>0</td>\n",
       "    </tr>\n",
       "    <tr>\n",
       "      <td>1</td>\n",
       "      <td>12071</td>\n",
       "      <td>ich kann keinen hinweis finden, wo man sich hi...</td>\n",
       "      <td>1</td>\n",
       "    </tr>\n",
       "    <tr>\n",
       "      <td>2</td>\n",
       "      <td>27465</td>\n",
       "      <td>Sehr geehrte Community oder cmb!\\r\\n\\r\\nBekomm...</td>\n",
       "      <td>2</td>\n",
       "    </tr>\n",
       "    <tr>\n",
       "      <td>3</td>\n",
       "      <td>27465</td>\n",
       "      <td>@ sni, danke für die Antwort! Habe das ehrlich...</td>\n",
       "      <td>2</td>\n",
       "    </tr>\n",
       "    <tr>\n",
       "      <td>4</td>\n",
       "      <td>12318</td>\n",
       "      <td>In einer Welt, in der man jede endliche Zahl v...</td>\n",
       "      <td>3</td>\n",
       "    </tr>\n",
       "    <tr>\n",
       "      <td>5</td>\n",
       "      <td>3159</td>\n",
       "      <td>...und auch die neue firma personalisierte mai...</td>\n",
       "      <td>4</td>\n",
       "    </tr>\n",
       "    <tr>\n",
       "      <td>6</td>\n",
       "      <td>21046</td>\n",
       "      <td>Wirklich? darf man das jetzt wieder?\\r\\n\\r\\nht...</td>\n",
       "      <td>5</td>\n",
       "    </tr>\n",
       "    <tr>\n",
       "      <td>7</td>\n",
       "      <td>16722</td>\n",
       "      <td>Ja, diese Frage ist in letzter Zeit häufiger z...</td>\n",
       "      <td>6</td>\n",
       "    </tr>\n",
       "    <tr>\n",
       "      <td>8</td>\n",
       "      <td>3159</td>\n",
       "      <td>...posts bzw. Konto wäre eine gute Erweiterung...</td>\n",
       "      <td>4</td>\n",
       "    </tr>\n",
       "    <tr>\n",
       "      <td>9</td>\n",
       "      <td>25974</td>\n",
       "      <td>Danke für's posten. Das ist ein Ausschliessung...</td>\n",
       "      <td>7</td>\n",
       "    </tr>\n",
       "    <tr>\n",
       "      <td>10</td>\n",
       "      <td>6917</td>\n",
       "      <td>Warum gibt es in der App keinen Wetterbereich,...</td>\n",
       "      <td>8</td>\n",
       "    </tr>\n",
       "    <tr>\n",
       "      <td>11</td>\n",
       "      <td>25974</td>\n",
       "      <td>&lt;Lob&gt;Ich finde die App inzwischen sehr brauchb...</td>\n",
       "      <td>7</td>\n",
       "    </tr>\n",
       "    <tr>\n",
       "      <td>12</td>\n",
       "      <td>25911</td>\n",
       "      <td>Erhalte ich einen Zertifikatsfehler.\\r\\n\\r\\nWi...</td>\n",
       "      <td>9</td>\n",
       "    </tr>\n",
       "    <tr>\n",
       "      <td>13</td>\n",
       "      <td>21315</td>\n",
       "      <td>Wie komme ich zu meiner postinguebersicht?</td>\n",
       "      <td>10</td>\n",
       "    </tr>\n",
       "    <tr>\n",
       "      <td>14</td>\n",
       "      <td>10467</td>\n",
       "      <td>...mit der Linkshändigkeit zu tun?</td>\n",
       "      <td>11</td>\n",
       "    </tr>\n",
       "    <tr>\n",
       "      <td>15</td>\n",
       "      <td>10467</td>\n",
       "      <td>...der Klingen? Und präzises Schneiden mit ein...</td>\n",
       "      <td>11</td>\n",
       "    </tr>\n",
       "    <tr>\n",
       "      <td>16</td>\n",
       "      <td>10467</td>\n",
       "      <td>Ich bin Rechtshänder, fahre Goofy und kicke mi...</td>\n",
       "      <td>11</td>\n",
       "    </tr>\n",
       "    <tr>\n",
       "      <td>17</td>\n",
       "      <td>31161</td>\n",
       "      <td>Ich bin geborene Linkshänderin, habe mich aber...</td>\n",
       "      <td>12</td>\n",
       "    </tr>\n",
       "    <tr>\n",
       "      <td>18</td>\n",
       "      <td>14200</td>\n",
       "      <td>Also schlechte Erfahrungen.\\nhttp://www.linksh...</td>\n",
       "      <td>13</td>\n",
       "    </tr>\n",
       "    <tr>\n",
       "      <td>19</td>\n",
       "      <td>8583</td>\n",
       "      <td>...eine Rechtshänder-Umerziehung in der Volkss...</td>\n",
       "      <td>14</td>\n",
       "    </tr>\n",
       "  </tbody>\n",
       "</table>\n",
       "</div>"
      ],
      "text/plain": [
       "    ID_User                                               Body  short_id\n",
       "0      9036                                       per RSS feed         0\n",
       "1     12071  ich kann keinen hinweis finden, wo man sich hi...         1\n",
       "2     27465  Sehr geehrte Community oder cmb!\\r\\n\\r\\nBekomm...         2\n",
       "3     27465  @ sni, danke für die Antwort! Habe das ehrlich...         2\n",
       "4     12318  In einer Welt, in der man jede endliche Zahl v...         3\n",
       "5      3159  ...und auch die neue firma personalisierte mai...         4\n",
       "6     21046  Wirklich? darf man das jetzt wieder?\\r\\n\\r\\nht...         5\n",
       "7     16722  Ja, diese Frage ist in letzter Zeit häufiger z...         6\n",
       "8      3159  ...posts bzw. Konto wäre eine gute Erweiterung...         4\n",
       "9     25974  Danke für's posten. Das ist ein Ausschliessung...         7\n",
       "10     6917  Warum gibt es in der App keinen Wetterbereich,...         8\n",
       "11    25974  <Lob>Ich finde die App inzwischen sehr brauchb...         7\n",
       "12    25911  Erhalte ich einen Zertifikatsfehler.\\r\\n\\r\\nWi...         9\n",
       "13    21315         Wie komme ich zu meiner postinguebersicht?        10\n",
       "14    10467                 ...mit der Linkshändigkeit zu tun?        11\n",
       "15    10467  ...der Klingen? Und präzises Schneiden mit ein...        11\n",
       "16    10467  Ich bin Rechtshänder, fahre Goofy und kicke mi...        11\n",
       "17    31161  Ich bin geborene Linkshänderin, habe mich aber...        12\n",
       "18    14200  Also schlechte Erfahrungen.\\nhttp://www.linksh...        13\n",
       "19     8583  ...eine Rechtshänder-Umerziehung in der Volkss...        14"
      ]
     },
     "execution_count": 9,
     "metadata": {},
     "output_type": "execute_result"
    }
   ],
   "source": [
    "from io import StringIO\n",
    "\n",
    "df['short_id'] = df['ID_User'].factorize()[0]\n",
    "category_id_df = df[['ID_User', 'short_id']].drop_duplicates().sort_values('short_id')\n",
    "category_to_id = dict(category_id_df.values)\n",
    "id_to_category = dict(category_id_df[['short_id', 'ID_User']].values)\n",
    "df.head(20)"
   ]
  },
  {
   "cell_type": "code",
   "execution_count": 10,
   "metadata": {},
   "outputs": [
    {
     "data": {
      "text/plain": [
       "5854     468\n",
       "14587    387\n",
       "22876    374\n",
       "25987    341\n",
       "26866    339\n",
       "        ... \n",
       "20330      1\n",
       "27357      1\n",
       "19691      1\n",
       "2210       1\n",
       "28480      1\n",
       "Name: ID_User, Length: 765, dtype: int64"
      ]
     },
     "execution_count": 10,
     "metadata": {},
     "output_type": "execute_result"
    }
   ],
   "source": [
    "df_minLength = df[df['Body'].apply(len) > 500]\n",
    "df_minLength['ID_User'].value_counts()"
   ]
  },
  {
   "cell_type": "markdown",
   "metadata": {},
   "source": [
    "Nur verbleibende User mit mehr als 250 Posts"
   ]
  },
  {
   "cell_type": "code",
   "execution_count": 11,
   "metadata": {},
   "outputs": [],
   "source": [
    "df2 = df_minLength.groupby('ID_User').filter(lambda x : len(x)>250)"
   ]
  },
  {
   "cell_type": "code",
   "execution_count": 12,
   "metadata": {},
   "outputs": [
    {
     "data": {
      "text/plain": [
       "5854     468\n",
       "14587    387\n",
       "22876    374\n",
       "25987    341\n",
       "26866    339\n",
       "15886    293\n",
       "18446    292\n",
       "12471    288\n",
       "3105     287\n",
       "30344    284\n",
       "10627    276\n",
       "20349    273\n",
       "Name: ID_User, dtype: int64"
      ]
     },
     "execution_count": 12,
     "metadata": {},
     "output_type": "execute_result"
    }
   ],
   "source": [
    "df2['ID_User'].value_counts()"
   ]
  },
  {
   "cell_type": "code",
   "execution_count": 13,
   "metadata": {},
   "outputs": [
    {
     "data": {
      "text/html": [
       "<div>\n",
       "<style scoped>\n",
       "    .dataframe tbody tr th:only-of-type {\n",
       "        vertical-align: middle;\n",
       "    }\n",
       "\n",
       "    .dataframe tbody tr th {\n",
       "        vertical-align: top;\n",
       "    }\n",
       "\n",
       "    .dataframe thead th {\n",
       "        text-align: right;\n",
       "    }\n",
       "</style>\n",
       "<table border=\"1\" class=\"dataframe\">\n",
       "  <thead>\n",
       "    <tr style=\"text-align: right;\">\n",
       "      <th></th>\n",
       "      <th>Body</th>\n",
       "      <th>short_id</th>\n",
       "    </tr>\n",
       "  </thead>\n",
       "  <tbody>\n",
       "    <tr>\n",
       "      <td>733</td>\n",
       "      <td>Sie haben die Siegesfeier und ein neues \"rotes...</td>\n",
       "      <td>187</td>\n",
       "    </tr>\n",
       "    <tr>\n",
       "      <td>744</td>\n",
       "      <td>Wenn die beiden Seiten doch so verschieden sin...</td>\n",
       "      <td>187</td>\n",
       "    </tr>\n",
       "    <tr>\n",
       "      <td>771</td>\n",
       "      <td>Wärest du im richtigen System, dann würdest di...</td>\n",
       "      <td>187</td>\n",
       "    </tr>\n",
       "    <tr>\n",
       "      <td>838</td>\n",
       "      <td>Verkomplizierungen, und trotzdem ist das das P...</td>\n",
       "      <td>222</td>\n",
       "    </tr>\n",
       "    <tr>\n",
       "      <td>839</td>\n",
       "      <td>Was Krankheit oder nur Besonderheit ist, ist l...</td>\n",
       "      <td>222</td>\n",
       "    </tr>\n",
       "    <tr>\n",
       "      <td>...</td>\n",
       "      <td>...</td>\n",
       "      <td>...</td>\n",
       "    </tr>\n",
       "    <tr>\n",
       "      <td>365194</td>\n",
       "      <td>\"Das durchschnittliche Nettofinanzvermögen (oh...</td>\n",
       "      <td>85</td>\n",
       "    </tr>\n",
       "    <tr>\n",
       "      <td>365363</td>\n",
       "      <td>\"Das heißt, es werden alle Dublin-Fälle, also ...</td>\n",
       "      <td>364</td>\n",
       "    </tr>\n",
       "    <tr>\n",
       "      <td>365370</td>\n",
       "      <td>Die \"Dublin\" Fälle, müssten eigentlich alle As...</td>\n",
       "      <td>779</td>\n",
       "    </tr>\n",
       "    <tr>\n",
       "      <td>366126</td>\n",
       "      <td>\"Parlamentarische Mehrheit\" sagt im österreich...</td>\n",
       "      <td>222</td>\n",
       "    </tr>\n",
       "    <tr>\n",
       "      <td>366252</td>\n",
       "      <td>es sind ja schon viele postings hier auf derst...</td>\n",
       "      <td>563</td>\n",
       "    </tr>\n",
       "  </tbody>\n",
       "</table>\n",
       "<p>3902 rows × 2 columns</p>\n",
       "</div>"
      ],
      "text/plain": [
       "                                                     Body  short_id\n",
       "733     Sie haben die Siegesfeier und ein neues \"rotes...       187\n",
       "744     Wenn die beiden Seiten doch so verschieden sin...       187\n",
       "771     Wärest du im richtigen System, dann würdest di...       187\n",
       "838     Verkomplizierungen, und trotzdem ist das das P...       222\n",
       "839     Was Krankheit oder nur Besonderheit ist, ist l...       222\n",
       "...                                                   ...       ...\n",
       "365194  \"Das durchschnittliche Nettofinanzvermögen (oh...        85\n",
       "365363  \"Das heißt, es werden alle Dublin-Fälle, also ...       364\n",
       "365370  Die \"Dublin\" Fälle, müssten eigentlich alle As...       779\n",
       "366126  \"Parlamentarische Mehrheit\" sagt im österreich...       222\n",
       "366252  es sind ja schon viele postings hier auf derst...       563\n",
       "\n",
       "[3902 rows x 2 columns]"
      ]
     },
     "execution_count": 13,
     "metadata": {},
     "output_type": "execute_result"
    }
   ],
   "source": [
    "df2.drop(['ID_User'], axis=1)"
   ]
  },
  {
   "cell_type": "code",
   "execution_count": 14,
   "metadata": {},
   "outputs": [
    {
     "data": {
      "text/plain": [
       "298    468\n",
       "408    387\n",
       "222    374\n",
       "364    341\n",
       "187    339\n",
       "85     293\n",
       "317    292\n",
       "779    288\n",
       "567    287\n",
       "312    284\n",
       "625    276\n",
       "563    273\n",
       "Name: short_id, dtype: int64"
      ]
     },
     "execution_count": 14,
     "metadata": {},
     "output_type": "execute_result"
    }
   ],
   "source": [
    "df2['short_id'].value_counts()"
   ]
  },
  {
   "cell_type": "markdown",
   "metadata": {},
   "source": [
    "Code von https://github.com/faizann24/Authorship-Attribution angepasst"
   ]
  },
  {
   "cell_type": "code",
   "execution_count": 15,
   "metadata": {},
   "outputs": [
    {
     "name": "stdout",
     "output_type": "stream",
     "text": [
      "\n",
      "Training and testing...\n",
      "Top-5 Test Accuracy: 99.67\n",
      "Test Accuracy: 84.40\n",
      "Test Precision: 84.44\n",
      "Test Recall: 84.20\n",
      "Test Fscore: 84.12\n",
      "\n"
     ]
    }
   ],
   "source": [
    "# Basic libraries\n",
    "import io\n",
    "import os\n",
    "import sys\n",
    "import argparse\n",
    "import numpy as np\n",
    "from os import walk\n",
    "\n",
    "# Scikit learn stuff\n",
    "from sklearn.metrics import *\n",
    "from sklearn.feature_extraction.text import TfidfVectorizer\n",
    "from sklearn.model_selection import train_test_split\n",
    "from sklearn.ensemble import RandomForestClassifier, AdaBoostClassifier, GradientBoostingClassifier\n",
    "\n",
    "ARTICLES_PER_AUTHOR = 250\n",
    "AUTHORS = 6\n",
    "#IDS = [298,408,222,364,187,85]\n",
    "IDS = [317,779,567,312,625,563]\n",
    "\n",
    "\n",
    "def calculate_top5accuracy(calc_labels, prediction_probs):\n",
    "\t\"\"\"\n",
    "\tTakes as input labels and prediction probabilities and calculates the top-5 accuracy of the model\n",
    "\t\"\"\"\n",
    "\tacc = []\n",
    "\tfor j in range(0, len(prediction_probs)):\n",
    "\t\tpre_probs = prediction_probs[j]\n",
    "\t\tpre_probs_indices = np.argsort(-pre_probs)[:5]\n",
    "\t\tif calc_labels[j] in pre_probs_indices:\n",
    "\t\t\tacc.append(1)\n",
    "\t\telse:\n",
    "\t\t\tacc.append(0)\n",
    "\n",
    "\treturn round(((acc.count(1) * 100) / len(acc)), 2)\n",
    "\n",
    "author_array = []\n",
    "for x in range(AUTHORS):\n",
    "    author = df2[df2['short_id'] == IDS[x]]\n",
    "    author = author.reset_index()\n",
    "    author = author.drop(['index'], axis=1)\n",
    "    author = author.drop(['short_id'], axis=1)\n",
    "    \n",
    "    author_array.append(author)\n",
    "\n",
    "\n",
    "authorArticles = []\n",
    "labels = []\n",
    "authorId = 0\n",
    "\n",
    "for author in author_array:\n",
    "    for x in range(ARTICLES_PER_AUTHOR):\n",
    "        authorArticles.append(author.loc[x, \"Body\"])\n",
    "        labels.append(authorId)\n",
    "    authorId = authorId+1\n",
    "\n",
    "print(\"\\nTraining and testing...\")\n",
    "# Train and get results\n",
    "accuracies, precisions, recalls, fscores, top5accuracies = [], [], [], [], []\n",
    "for i in range(5):\n",
    "\t# Train and test 5 different times and average the results\n",
    "\n",
    "\t# Split data into training and testing\n",
    "\ttrainData, testData, trainLabels, testLabels = train_test_split(authorArticles, labels, test_size=0.2)\n",
    "\n",
    "\t# Convert raw corpus into tfidf scores\n",
    "\tvectorizer = TfidfVectorizer(min_df=15)\n",
    "\tvectorizer.fit(trainData)\n",
    "\ttrainData = vectorizer.transform(trainData).toarray()\n",
    "\ttestData = vectorizer.transform(testData).toarray()\n",
    "\n",
    "\t# Create a classifier instance\n",
    "\tclassifier = RandomForestClassifier(n_estimators=100)\n",
    "\n",
    "\t# Train classifier\n",
    "\tclassifier.fit(trainData, trainLabels)\n",
    "\n",
    "\t# Get test predictions\n",
    "\ttestPredictions = classifier.predict(testData)\n",
    "\ttestPredictionsProbs = classifier.predict_proba(testData)\n",
    "\ttestTopFiveAccuracy = calculate_top5accuracy(testLabels, testPredictionsProbs)\n",
    "\n",
    "\t# Calculate metrics\n",
    "\taccuracy = round(accuracy_score(testLabels, testPredictions) * 100, 2)\n",
    "\tprecision = round(precision_score(testLabels, testPredictions, average='macro') * 100, 2)\n",
    "\trecall = round(recall_score(testLabels, testPredictions, average='macro') * 100, 2)\n",
    "\tfscore = round(f1_score(testLabels, testPredictions, average='macro') * 100, 2)\n",
    "\tconfusionMatrix = confusion_matrix(testLabels, testPredictions)\n",
    "\n",
    "\t# Store metrics in lists\n",
    "\taccuracies.append(accuracy)\n",
    "\tprecisions.append(precision)\n",
    "\trecalls.append(recall)\n",
    "\tfscores.append(fscore)\n",
    "\ttop5accuracies.append(testTopFiveAccuracy)\n",
    "\n",
    "print(\"Top-5 Test Accuracy: %.2f\\nTest Accuracy: %.2f\\nTest Precision: %.2f\\nTest Recall: %.2f\\nTest Fscore: %.2f\\n\" % (\n",
    "\t\t\t\t\t\t\t\t\t\t\t\t\t\t\tnp.mean(top5accuracies), np.mean(accuracies), np.mean(precisions), np.mean(recalls), np.mean(fscores)))\n",
    "\n"
   ]
  },
  {
   "cell_type": "code",
   "execution_count": 16,
   "metadata": {},
   "outputs": [
    {
     "name": "stdout",
     "output_type": "stream",
     "text": [
      "[[34  1  3  0  5  3]\n",
      " [ 2 45  1  0  0  4]\n",
      " [ 2  2 38  1  5  0]\n",
      " [ 0  0  0 62  0  2]\n",
      " [ 4  2  1  0 35  1]\n",
      " [ 0  1  2  0  0 44]]\n"
     ]
    },
    {
     "data": {
      "image/png": "[encoded data removed]",
      "text/plain": [
       "<Figure size 432x288 with 2 Axes>"
      ]
     },
     "metadata": {
      "needs_background": "light"
     },
     "output_type": "display_data"
    },
    {
     "data": {
      "image/png": "[encoded data removed]",
      "text/plain": [
       "<Figure size 432x288 with 2 Axes>"
      ]
     },
     "metadata": {
      "needs_background": "light"
     },
     "output_type": "display_data"
    }
   ],
   "source": [
    "from sklearn.metrics import plot_confusion_matrix\n",
    "from sklearn.metrics import confusion_matrix, plot_confusion_matrix\n",
    "from sklearn.metrics import ConfusionMatrixDisplay\n",
    "\n",
    "matrix = confusion_matrix(testLabels, testPredictions)\n",
    "print(matrix)\n",
    "\n",
    "\n",
    "# disp = plot_confusion_matrix(classifier, testData, testLabels,\n",
    "# display_labels=[0,1,2,3,4], cmap=plt.cm.Blues, normalize='true')\n",
    "# DEPRECATED\n",
    "\n",
    "ConfusionMatrixDisplay.from_estimator(classifier, testData, testLabels)\n",
    "#ConfusionMatrixDisplay.from_predictions(testLabels, testPredictions)\n",
    "\n",
    "matrix = matrix.astype('float') / matrix.sum(axis=1)[:, np.newaxis]\n",
    "\n",
    "disp = ConfusionMatrixDisplay(matrix,display_labels=IDS)\n",
    "disp.plot(cmap=plt.cm.Blues)\n",
    "plt.show()"
   ]
  },
  {
   "cell_type": "code",
   "execution_count": null,
   "metadata": {},
   "outputs": [],
   "source": []
  }
 ],
 "metadata": {
  "kernelspec": {
   "display_name": "Python 3",
   "language": "python",
   "name": "python3"
  },
  "language_info": {
   "codemirror_mode": {
    "name": "ipython",
    "version": 3
   },
   "file_extension": ".py",
   "mimetype": "text/x-python",
   "name": "python",
   "nbconvert_exporter": "python",
   "pygments_lexer": "ipython3",
   "version": "3.7.4"
  }
 },
 "nbformat": 4,
 "nbformat_minor": 2
}
