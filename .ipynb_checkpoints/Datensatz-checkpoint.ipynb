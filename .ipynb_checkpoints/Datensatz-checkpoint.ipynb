{
 "cells": [
  {
   "cell_type": "markdown",
   "metadata": {},
   "source": [
    "https://ofai.github.io/million-post-corpus/ <br> **Posts** - Headline+Body, ID_User"
   ]
  },
  {
   "cell_type": "code",
   "execution_count": 42,
   "metadata": {},
   "outputs": [],
   "source": [
    "ARTICLES_MIN_LENGTH = 300\n",
    "ARTICLES_PER_AUTHOR = 250"
   ]
  },
  {
   "cell_type": "markdown",
   "metadata": {},
   "source": [
    "<div style=\"float: left;\">\n",
    "    Beiträge bestehen aus Headline + Body - diese werden kombiniert\n",
    "    <img src=\"img/headline_body.png\" alt=\"headline_body.png\" style=\"padding-top:0.5em;\"/>       \n",
    "</div>\n",
    "<div style=\"float: center; text-align:center\">\n",
    "    Zu kurze Beiträge - unter 300 - werden ignoriert\n",
    "    <img src=\"img/short_body.png\" alt=\"empty_body.png\" style=\"padding-top:0.5em;\"/>\n",
    "</div>\n",
    "\n",
    "<div style=\"float: left;\">\n",
    "    Duplikate werden ignoriert\n",
    "    <img src=\"img/duplicate.png\" alt=\"duplicate.png\" style=\"padding-top:0.5em;\"/>       \n",
    "</div>"
   ]
  },
  {
   "cell_type": "code",
   "execution_count": 2,
   "metadata": {},
   "outputs": [],
   "source": [
    "import pandas as pd\n",
    "import numpy as np\n",
    "import matplotlib.pyplot as plt\n",
    "import sqlite3\n",
    "import sqlalchemy as sqla\n",
    "\n",
    "con = sqlite3.connect(\"OneMillion/million_post_corpus/corpus.sqlite3\", isolation_level=None,\n",
    "                       detect_types=sqlite3.PARSE_COLNAMES)\n",
    "\n",
    "df = pd.read_sql_query(\"SELECT distinct ID_User, COALESCE(Headline, '') || COALESCE(Body, '') as Beitrag from Posts\", con)\n",
    "\n",
    "df = df.replace(to_replace=[r\"\\\\t|\\\\n|\\\\r\", \"\\t|\\n|\\r\"], value=[\"\",\"\"], regex=True)\n",
    "\n",
    "df_minLength = df.loc[df['Beitrag'].apply(len) > ARTICLES_MIN_LENGTH]"
   ]
  },
  {
   "cell_type": "markdown",
   "metadata": {},
   "source": [
    "eventuell auch URLS aus Beiträgen entfernen?"
   ]
  },
  {
   "cell_type": "code",
   "execution_count": 3,
   "metadata": {},
   "outputs": [],
   "source": [
    "posts_per_author = df_minLength['ID_User'].value_counts()"
   ]
  },
  {
   "cell_type": "code",
   "execution_count": 4,
   "metadata": {},
   "outputs": [],
   "source": [
    "df_minArticles = df_minLength.groupby('ID_User').filter(lambda x : len(x)>ARTICLES_PER_AUTHOR)"
   ]
  },
  {
   "cell_type": "code",
   "execution_count": 5,
   "metadata": {},
   "outputs": [],
   "source": [
    "posts_per_author = df_minArticles['ID_User'].value_counts()"
   ]
  },
  {
   "cell_type": "markdown",
   "metadata": {
    "variables": {
     "str(ARTICLES_MIN_LENGTH)": "300",
     "str(ARTICLES_PER_AUTHOR)": "40",
     "str(len(posts_per_author))": "55"
    }
   },
   "source": [
    "## User mit mehr als {{str(ARTICLES_PER_AUTHOR)}} individuellen Posts - (Mindestlänge {{str(ARTICLES_MIN_LENGTH)}}) : **{{str(len(posts_per_author))}}**"
   ]
  },
  {
   "cell_type": "code",
   "execution_count": 12,
   "metadata": {},
   "outputs": [],
   "source": [
    "LESS_ARTICLES_PER_AUTHOR = 30"
   ]
  },
  {
   "cell_type": "code",
   "execution_count": 13,
   "metadata": {},
   "outputs": [],
   "source": [
    "df_minArticles30 = df_minLength.groupby('ID_User').filter(lambda x : len(x)>LESS_ARTICLES_PER_AUTHOR)"
   ]
  },
  {
   "cell_type": "code",
   "execution_count": 15,
   "metadata": {},
   "outputs": [],
   "source": [
    "less_posts_per_author = df_minArticles30['ID_User'].value_counts()"
   ]
  },
  {
   "cell_type": "markdown",
   "metadata": {
    "variables": {
     "str(ARTICLES_MIN_LENGTH)": "300",
     "str(LESS_ARTICLES_PER_AUTHOR)": "30",
     "str(len(less_posts_per_author))": "1882"
    }
   },
   "source": [
    "## User mit mehr als {{str(LESS_ARTICLES_PER_AUTHOR)}} individuellen Posts - (Mindestlänge {{str(ARTICLES_MIN_LENGTH)}}) : **{{str(len(less_posts_per_author))}}**"
   ]
  },
  {
   "cell_type": "markdown",
   "metadata": {},
   "source": [
    "# Beispieldaten"
   ]
  },
  {
   "cell_type": "code",
   "execution_count": 43,
   "metadata": {},
   "outputs": [],
   "source": [
    "import random\n",
    "\n",
    "UserIDListe = df_minArticles.drop_duplicates(subset = [\"ID_User\"])['ID_User'].tolist()\n",
    "\n",
    "ARTICLES_PER_AUTHOR_BSP = 5\n",
    "AUTHORS = 5\n",
    "IDS = random.sample(UserIDListe, AUTHORS)"
   ]
  },
  {
   "cell_type": "code",
   "execution_count": 44,
   "metadata": {},
   "outputs": [],
   "source": [
    "author_array = []\n",
    "for x in range(AUTHORS):\n",
    "    author = df_minArticles[df_minArticles['ID_User'] == IDS[x]]\n",
    "    author = author.reset_index()\n",
    "    author = author.drop(['index'], axis=1)\n",
    "    author = author.drop(['ID_User'], axis=1)\n",
    "    \n",
    "    author_array.append(author)\n",
    "\n",
    "\n",
    "authorArticles = []\n",
    "labels = []\n",
    "authorId = 0\n",
    "\n",
    "for author in author_array:\n",
    "    for x in range(ARTICLES_PER_AUTHOR_BSP):\n",
    "        authorArticles.append(author.loc[x, \"Beitrag\"])\n",
    "        labels.append(authorId)\n",
    "    authorId = authorId+1"
   ]
  },
  {
   "cell_type": "markdown",
   "metadata": {
    "variables": {
     "IDS[0]": "24667",
     "IDS[1]": "28526",
     "IDS[2]": "24758",
     "IDS[3]": "27991",
     "IDS[4]": "11910",
     "authorArticles[10]": "...&quot;Einige finden so auch einen Ehemann. ( kenne 2 Fälle).&quot;Um ehrlich zu sein: Mir scheint Sie glauben, einen Ehemann zu finden, sei ein so erstrebenswertes Ziel für eine Frau. An sich wissen wir, dass zumindest in unseren Breiten Frauen trotz Erwerbsarbeit ca. 70% der Haushaltsarbeit und Kinderbetreuung übernehmen (müssen). Daher sehe ich a priori &quot;einen Ehemann zu finden&quot; (und damit in die erwähnte Dreifachbelastung zu geraten) eher nicht als Zielsetzung an. Allenfalls nimmt &quot;frau&quot; es aus Liebe (wenn der Richtige kommt) in Kauf, dann macht frau es auch vielleicht gerne, aber darauf &quot;anlegen&quot; ???",
     "authorArticles[15]": "ein erbärmlicher staat also - dieses erbärmliche volk ermöglicht ihnen kostenlosen kindergartenzugang. ermöglicht ihnen kostenlose schule bis zur matura. unterstützt seine lehrlinge großzügig. ermöglicht ihnen ein nahezu kostenloses studium. ermöglicht ihnen wenn sie krank sind immer und überall kostenlos behandelt zu werden. dieses erbärmliche volk lässt sie bei arbeitslosigkeit nicht alleine im regen stehen. es sorgt auch dafür, dass sie nicht allzu große angst vor gewalt an leib und leben haben müssen. dieses erbärmliche volk sichert im großen und ganzen ihre pension. dieses erbärmliche volk kümmert sich im großen und ganzen ganz gut um seine schwächeren mitglieder und lässt keinen rettungslos zurück.wie erbärmlich ist das alles!",
     "authorArticles[20]": "Ich zitiere:.....dann hat man jede glaubwürdigkeit verloren.......Der Witz war gut!!!:-D  :-D   :-DWissen sie nicht, dass die SPÖ ihre Glaubwürdigkeit schon lange verloren hat?Wer glaubt denen noch ein Wörtchen, geschweige noch ein Wort!Diese netten Herren auf dem Foto sind einfach nicht lernfähig, sondern arrogant und abgehoben! Nichts leisten, aber die Wähler müssen ihnen folgen!Unglaublich!",
     "authorArticles[5]": "Im großen war es sehr beeindrucktend. Man kann sich das vielleicht auch heute im Angesicht von Ostalgie etc. nicht mehr vorstellen WIE angefressen die Osteuropäer auf ihr System und ihre Regierungen waren. Da war 0 Respekt oder Wertschätzung für das vorherige noch vorhanden. Im mittleren war es eine Veranlassung für Professor Funk mit uns die Frage was denn juristisch eine Revolution sei durchzugehen:)Und im nachbarschaftlichen meines Heimatortes hatte es unmittelbare Wirkungen als nämlich die sehr fesche Ehefrau unseres tumben Nachbarn sich 1 Woche später scheiden ließ (sie war aus der DDR und war ihr das wohl der letzte Anstoss auch privat den Mauerfall zu begehen).",
     "authorArticles[:5][0]": "Es sind ja nicht 30.000Wie kommen Sie auf diese Zahl?Haben Sie keine Informationen über die Anträge davor, und glauben Sie es werden ab morgen keine mehr gestellt werden?Es hilft nichts wenn man die Situation zu  vertuschen versucht, indem man immer nur kleine Ausschnitte des Gesamtbildes anspricht.Im Gegenteil. Man sollte den Aspekt berücksichtigen, dass diese derzeitige Zuwanderung von der Zeit und von der Menge, ganz anders sein wird, als die zum Vergleich angeführten Fälle.Ungarn, Tschechoslowakei, Balkan waren zeitlich und mengenmäßig begrenzt. Die Flüchtlingsbewegung jetzt, ist das nicht.Die wird nicht innerhalb von Monaten oder Jahren von selbst versiegen und wird daher auch nicht mengenmäßig begrenzt sein.",
     "labels[10]": "2",
     "labels[15]": "3",
     "labels[20]": "4",
     "labels[5]": "1",
     "labels[:5][0]": "0"
    }
   },
   "source": [
    "#### Beispielpost von User {{IDS[0]}} - Label {{labels[:5][0]}} \n",
    "\n",
    "`{{authorArticles[:5][0]}}` <br>\n",
    "\n",
    "#### Beispielpost von User {{IDS[1]}} - Label {{labels[5]}}\n",
    "\n",
    "`{{authorArticles[5]}}` <br>\n",
    "\n",
    "#### Beispielpost von User {{IDS[2]}} - Label {{labels[10]}} \n",
    "\n",
    "`{{authorArticles[10]}}` <br>\n",
    "\n",
    "#### Beispielpost von User {{IDS[3]}} - Label {{labels[15]}} \n",
    "\n",
    "`{{authorArticles[15]}}` <br>\n",
    "\n",
    "#### Beispielpost von User {{IDS[4]}} - Label {{labels[20]}} \n",
    "\n",
    "`{{authorArticles[20]}}` <br>"
   ]
  }
 ],
 "metadata": {
  "kernelspec": {
   "display_name": "Python 3",
   "language": "python",
   "name": "python3"
  },
  "language_info": {
   "codemirror_mode": {
    "name": "ipython",
    "version": 3
   },
   "file_extension": ".py",
   "mimetype": "text/x-python",
   "name": "python",
   "nbconvert_exporter": "python",
   "pygments_lexer": "ipython3",
   "version": "3.7.4"
  }
 },
 "nbformat": 4,
 "nbformat_minor": 2
}
